{
 "cells": [
  {
   "cell_type": "markdown",
   "metadata": {},
   "source": [
    "Simplifying block diagrams\n",
    "============\n",
    "\n",
    "[These notes](https://web.archive.org/web/20170516181451/http://faculty.mu.edu.sa/public/uploads/1415021770.8406Block_Diagram_Reduction_Rules.pdf) detail some techniques for reducing block diagrams graphically. In this notebook, I will solve the problem using SymPy.\n",
    "\n",
    "Let's reduce this big block diagram to one input-output relationship (Example 4 in the notes linked to above):\n",
    "\n",
    "![](../../assets/bigblockdiagram.png)"
   ]
  },
  {
   "cell_type": "code",
   "execution_count": 1,
   "metadata": {},
   "outputs": [],
   "source": [
    "import sympy\n",
    "sympy.init_printing()"
   ]
  },
  {
   "cell_type": "code",
   "execution_count": 2,
   "metadata": {
    "collapsed": true
   },
   "outputs": [],
   "source": [
    "(R, V1, V2, V3, V4, V5, V6, V7, V8, C,\n",
    " G1, G2, G3, H1, H2, H3) = sympy.symbols('R, V1, V2, V3, V4, V5, V6, V7, V8, C,'\n",
    "                                         'G1, G2, G3, H1, H2, H3')\n",
    "unknowns = V1, V2, V3, V4, V5, V6, V7, V8, C"
   ]
  },
  {
   "cell_type": "code",
   "execution_count": 3,
   "metadata": {},
   "outputs": [],
   "source": [
    "eqs = [# Blocks\n",
    "       V2 - G1*V1,\n",
    "       V4 - G2*V3,\n",
    "       C - G3*V5,\n",
    "       V6 - H1*V4,\n",
    "       V7 - H2*V4,\n",
    "       V8 - H3*C,\n",
    "       # Sums\n",
    "       V1 - (R - V6),\n",
    "       V3 - (V2 - V7),\n",
    "       V5 - (V4 + V3 - V8),\n",
    "       ]"
   ]
  },
  {
   "cell_type": "code",
   "execution_count": 4,
   "metadata": {},
   "outputs": [
    {
     "data": {
      "image/png": "[encoded data removed]",
      "text/latex": [
       "$$\\left \\{ C : \\frac{G_{1} G_{3} R \\left(G_{2} + 1\\right)}{G_{1} G_{2} G_{3} H_{1} H_{3} + G_{1} G_{2} H_{1} + G_{2} G_{3} H_{2} H_{3} + G_{2} H_{2} + G_{3} H_{3} + 1}, \\quad V_{1} : \\frac{R \\left(G_{2} H_{2} + 1\\right)}{G_{1} G_{2} H_{1} + G_{2} H_{2} + 1}, \\quad V_{2} : \\frac{G_{1} R \\left(G_{2} H_{2} + 1\\right)}{G_{1} G_{2} H_{1} + G_{2} H_{2} + 1}, \\quad V_{3} : \\frac{G_{1} R}{G_{1} G_{2} H_{1} + G_{2} H_{2} + 1}, \\quad V_{4} : \\frac{G_{1} G_{2} R}{G_{1} G_{2} H_{1} + G_{2} H_{2} + 1}, \\quad V_{5} : \\frac{G_{1} R \\left(G_{2} + 1\\right)}{G_{1} G_{2} G_{3} H_{1} H_{3} + G_{1} G_{2} H_{1} + G_{2} G_{3} H_{2} H_{3} + G_{2} H_{2} + G_{3} H_{3} + 1}, \\quad V_{6} : \\frac{G_{1} G_{2} H_{1} R}{G_{1} G_{2} H_{1} + G_{2} H_{2} + 1}, \\quad V_{7} : \\frac{G_{1} G_{2} H_{2} R}{G_{1} G_{2} H_{1} + G_{2} H_{2} + 1}, \\quad V_{8} : \\frac{G_{1} G_{3} H_{3} R \\left(G_{2} + 1\\right)}{G_{1} G_{2} G_{3} H_{1} H_{3} + G_{1} G_{2} H_{1} + G_{2} G_{3} H_{2} H_{3} + G_{2} H_{2} + G_{3} H_{3} + 1}\\right \\}$$"
      ],
      "text/plain": [
       "⎧                         G₁⋅G₃⋅R⋅(G₂ + 1)                              R⋅(G₂⋅\n",
       "⎨C: ───────────────────────────────────────────────────────────, V₁: ─────────\n",
       "⎩   G₁⋅G₂⋅G₃⋅H₁⋅H₃ + G₁⋅G₂⋅H₁ + G₂⋅G₃⋅H₂⋅H₃ + G₂⋅H₂ + G₃⋅H₃ + 1      G₁⋅G₂⋅H₁ \n",
       "\n",
       "H₂ + 1)            G₁⋅R⋅(G₂⋅H₂ + 1)                G₁⋅R                    G₁⋅\n",
       "───────────, V₂: ────────────────────, V₃: ────────────────────, V₄: ─────────\n",
       "+ G₂⋅H₂ + 1      G₁⋅G₂⋅H₁ + G₂⋅H₂ + 1      G₁⋅G₂⋅H₁ + G₂⋅H₂ + 1      G₁⋅G₂⋅H₁ \n",
       "\n",
       "G₂⋅R                                    G₁⋅R⋅(G₂ + 1)                         \n",
       "───────────, V₅: ───────────────────────────────────────────────────────────, \n",
       "+ G₂⋅H₂ + 1      G₁⋅G₂⋅G₃⋅H₁⋅H₃ + G₁⋅G₂⋅H₁ + G₂⋅G₃⋅H₂⋅H₃ + G₂⋅H₂ + G₃⋅H₃ + 1  \n",
       "\n",
       "         G₁⋅G₂⋅H₁⋅R                G₁⋅G₂⋅H₂⋅R                               G₁\n",
       "V₆: ────────────────────, V₇: ────────────────────, V₈: ──────────────────────\n",
       "    G₁⋅G₂⋅H₁ + G₂⋅H₂ + 1      G₁⋅G₂⋅H₁ + G₂⋅H₂ + 1      G₁⋅G₂⋅G₃⋅H₁⋅H₃ + G₁⋅G₂\n",
       "\n",
       "⋅G₃⋅H₃⋅R⋅(G₂ + 1)                    ⎫\n",
       "─────────────────────────────────────⎬\n",
       "⋅H₁ + G₂⋅G₃⋅H₂⋅H₃ + G₂⋅H₂ + G₃⋅H₃ + 1⎭"
      ]
     },
     "execution_count": 4,
     "metadata": {},
     "output_type": "execute_result"
    }
   ],
   "source": [
    "sol = sympy.solve(eqs, unknowns)\n",
    "sol"
   ]
  },
  {
   "cell_type": "markdown",
   "metadata": {},
   "source": [
    "The solution in the notes is factored:"
   ]
  },
  {
   "cell_type": "code",
   "execution_count": 5,
   "metadata": {},
   "outputs": [
    {
     "data": {
      "image/png": "[encoded data removed]",
      "text/latex": [
       "$$\\frac{G_{1} G_{3} R \\left(G_{2} + 1\\right)}{\\left(G_{3} H_{3} + 1\\right) \\left(G_{1} G_{2} H_{1} + G_{2} H_{2} + 1\\right)}$$"
      ],
      "text/plain": [
       "         G₁⋅G₃⋅R⋅(G₂ + 1)         \n",
       "──────────────────────────────────\n",
       "(G₃⋅H₃ + 1)⋅(G₁⋅G₂⋅H₁ + G₂⋅H₂ + 1)"
      ]
     },
     "execution_count": 5,
     "metadata": {},
     "output_type": "execute_result"
    }
   ],
   "source": [
    "sol[C].factor()"
   ]
  }
 ],
 "metadata": {
  "anaconda-cloud": {},
  "kernelspec": {
   "display_name": "Python 3",
   "language": "python",
   "name": "python3"
  },
  "language_info": {
   "codemirror_mode": {
    "name": "ipython",
    "version": 3
   },
   "file_extension": ".py",
   "mimetype": "text/x-python",
   "name": "python",
   "nbconvert_exporter": "python",
   "pygments_lexer": "ipython3",
   "version": "3.12.3"
  }
 },
 "nbformat": 4,
 "nbformat_minor": 2
}
