{
 "cells": [
  {
   "cell_type": "markdown",
   "metadata": {},
   "source": [
    "## Transfer function matrices\n",
    "\n",
    "Let's say we have two inputs and two outputs. We can write the linearised effect as follows:\n",
    "\n",
    "\\begin{align}\n",
    "y_1 &= G_{11} u_1 + G_{12} u_2 \\\\\n",
    "y_2 &= G_{21} u_1 + G_{22} u_2\n",
    "\\end{align}\n",
    "\n",
    "Which is equivalent to a matrix expression\n",
    "\n",
    "$$\\mathbf{y} = G \\mathbf{u}$$\n",
    "\n",
    "with \n",
    "\n",
    "$$\\mathbf{y} = \\begin{bmatrix}y_1\\\\y_2\\end{bmatrix} \n",
    "  \\quad G = \\begin{bmatrix}G_{11} & G_{12} \\\\ G_{21} & G_{22} \\end{bmatrix}\n",
    "  \\quad \\mathbf{u} = \\begin{bmatrix}u_1\\\\u_2\\end{bmatrix}$$\n"
   ]
  },
  {
   "cell_type": "markdown",
   "metadata": {},
   "source": [
    "I find it useful to picture the input going into the top of the matrix and the output coming out of the side"
   ]
  },
  {
   "cell_type": "markdown",
   "metadata": {},
   "source": [
    "### Representing matrices in SymPy"
   ]
  },
  {
   "cell_type": "code",
   "execution_count": 1,
   "metadata": {},
   "outputs": [],
   "source": [
    "import sympy\n",
    "sympy.init_printing()"
   ]
  },
  {
   "cell_type": "code",
   "execution_count": 2,
   "metadata": {},
   "outputs": [],
   "source": [
    "s = sympy.Symbol('s')"
   ]
  },
  {
   "cell_type": "code",
   "execution_count": 3,
   "metadata": {},
   "outputs": [],
   "source": [
    "G11 = (s + 1)/(s + 2)\n",
    "G12 = 1/(2*s + 1)\n",
    "G21 = 1/(3*s + 1) \n",
    "G22 = 1/(4*s + 1)\n",
    "\n",
    "row1 = [G11, G12]\n",
    "row2 = [G21, G22]\n",
    "list_of_lists = [row1, \n",
    "                 row2]"
   ]
  },
  {
   "cell_type": "code",
   "execution_count": 4,
   "metadata": {},
   "outputs": [],
   "source": [
    "G = sympy.Matrix(list_of_lists)"
   ]
  },
  {
   "cell_type": "code",
   "execution_count": 5,
   "metadata": {},
   "outputs": [
    {
     "data": {
      "image/png": "[encoded data removed]",
      "text/latex": [
       "$\\displaystyle \\frac{s + 1}{s + 2}$"
      ],
      "text/plain": [
       "s + 1\n",
       "─────\n",
       "s + 2"
      ]
     },
     "execution_count": 5,
     "metadata": {},
     "output_type": "execute_result"
    }
   ],
   "source": [
    "G[0, 0]"
   ]
  },
  {
   "cell_type": "code",
   "execution_count": 6,
   "metadata": {},
   "outputs": [
    {
     "data": {
      "image/png": "[encoded data removed]",
      "text/latex": [
       "$\\displaystyle \\left[\\begin{matrix}\\frac{6 s^{3} + 17 s^{2} + 11 s + 2}{6 s^{3} + 7 s^{2} - 3 s - 1} & - \\frac{12 s^{3} + 31 s^{2} + 15 s + 2}{6 s^{3} + 7 s^{2} - 3 s - 1}\\\\- \\frac{8 s^{3} + 22 s^{2} + 13 s + 2}{6 s^{3} + 7 s^{2} - 3 s - 1} & \\frac{24 s^{4} + 50 s^{3} + 35 s^{2} + 10 s + 1}{6 s^{3} + 7 s^{2} - 3 s - 1}\\end{matrix}\\right]$"
      ],
      "text/plain": [
       "⎡     3       2                  ⎛    3       2           ⎞   ⎤\n",
       "⎢  6⋅s  + 17⋅s  + 11⋅s + 2      -⎝12⋅s  + 31⋅s  + 15⋅s + 2⎠   ⎥\n",
       "⎢  ───────────────────────      ────────────────────────────  ⎥\n",
       "⎢      3      2                       3      2                ⎥\n",
       "⎢   6⋅s  + 7⋅s  - 3⋅s - 1          6⋅s  + 7⋅s  - 3⋅s - 1      ⎥\n",
       "⎢                                                             ⎥\n",
       "⎢ ⎛   3       2           ⎞       4       3       2           ⎥\n",
       "⎢-⎝8⋅s  + 22⋅s  + 13⋅s + 2⎠   24⋅s  + 50⋅s  + 35⋅s  + 10⋅s + 1⎥\n",
       "⎢───────────────────────────  ────────────────────────────────⎥\n",
       "⎢      3      2                       3      2                ⎥\n",
       "⎣   6⋅s  + 7⋅s  - 3⋅s - 1          6⋅s  + 7⋅s  - 3⋅s - 1      ⎦"
      ]
     },
     "execution_count": 6,
     "metadata": {},
     "output_type": "execute_result"
    }
   ],
   "source": [
    "sympy.simplify(G.inv())"
   ]
  },
  {
   "cell_type": "code",
   "execution_count": 7,
   "metadata": {},
   "outputs": [
    {
     "data": {
      "image/png": "[encoded data removed]",
      "text/latex": [
       "$\\displaystyle \\left[\\begin{matrix}\\frac{2 \\left(s + 1\\right)}{s + 2} & \\frac{2}{2 s + 1}\\\\\\frac{2}{3 s + 1} & \\frac{2}{4 s + 1}\\end{matrix}\\right]$"
      ],
      "text/plain": [
       "⎡2⋅(s + 1)     2   ⎤\n",
       "⎢─────────  ───────⎥\n",
       "⎢  s + 2    2⋅s + 1⎥\n",
       "⎢                  ⎥\n",
       "⎢    2         2   ⎥\n",
       "⎢ ───────   ───────⎥\n",
       "⎣ 3⋅s + 1   4⋅s + 1⎦"
      ]
     },
     "execution_count": 7,
     "metadata": {},
     "output_type": "execute_result"
    }
   ],
   "source": [
    "G + G"
   ]
  },
  {
   "cell_type": "markdown",
   "metadata": {},
   "source": [
    "### Representing matrices using the control library"
   ]
  },
  {
   "cell_type": "code",
   "execution_count": 8,
   "metadata": {},
   "outputs": [],
   "source": [
    "import control"
   ]
  },
  {
   "cell_type": "code",
   "execution_count": 9,
   "metadata": {},
   "outputs": [
    {
     "data": {
      "text/latex": [
       "$$\\frac{1}{s + 2}$$"
      ],
      "text/plain": [
       "TransferFunction(array([1]), array([1, 2]))"
      ]
     },
     "execution_count": 9,
     "metadata": {},
     "output_type": "execute_result"
    }
   ],
   "source": [
    "control.tf([0, 1], [1, 2])"
   ]
  },
  {
   "cell_type": "code",
   "execution_count": 10,
   "metadata": {},
   "outputs": [],
   "source": [
    "s = control.tf([1, 0], 1)"
   ]
  },
  {
   "cell_type": "code",
   "execution_count": 11,
   "metadata": {},
   "outputs": [
    {
     "data": {
      "text/latex": [
       "$$\\frac{s}{1}$$"
      ],
      "text/plain": [
       "TransferFunction(array([1, 0]), array([1]))"
      ]
     },
     "execution_count": 11,
     "metadata": {},
     "output_type": "execute_result"
    }
   ],
   "source": [
    "s"
   ]
  },
  {
   "cell_type": "code",
   "execution_count": 12,
   "metadata": {},
   "outputs": [],
   "source": [
    "G = 1/(s + 1)"
   ]
  },
  {
   "cell_type": "code",
   "execution_count": 13,
   "metadata": {},
   "outputs": [],
   "source": [
    "num11 = [1, 2]\n",
    "num12 = [2]\n",
    "num21 = [3]\n",
    "num22 = [4]\n",
    "\n",
    "row1 = [num11, num12]\n",
    "row2 = [num21, num22]\n",
    "numerator = [row1, \n",
    "             row2]\n",
    "\n",
    "\n",
    "denominator = [[[1, 1], [2, 1]], \n",
    "               [[3, 1], [4, 1]]]\n",
    "Gmatrix = control.tf(numerator, \n",
    "           denominator)"
   ]
  },
  {
   "cell_type": "code",
   "execution_count": 14,
   "metadata": {},
   "outputs": [
    {
     "data": {
      "text/latex": [
       "$$\\begin{bmatrix}\\frac{s + 2}{s + 1}&\\frac{2}{2 s + 1}\\\\\\frac{3}{3 s + 1}&\\frac{4}{4 s + 1}\\\\ \\end{bmatrix}$$"
      ],
      "text/plain": [
       "TransferFunction([[array([1, 2]), array([2])], [array([3]), array([4])]], [[array([1, 1]), array([2, 1])], [array([3, 1]), array([4, 1])]])"
      ]
     },
     "execution_count": 14,
     "metadata": {},
     "output_type": "execute_result"
    }
   ],
   "source": [
    "Gmatrix"
   ]
  },
  {
   "cell_type": "markdown",
   "metadata": {},
   "source": [
    "## Conversion to state space"
   ]
  },
  {
   "cell_type": "markdown",
   "metadata": {},
   "source": [
    "See the [state space notebook](State%20space.ipynb) for more information about conversion between state space and transfer function form. The examples in that notebook are for SISO transfer functions."
   ]
  },
  {
   "cell_type": "markdown",
   "metadata": {},
   "source": [
    "There are no tools in `scipy.signal` to deal with mutlivariable transfer functions. However, the control library can do the conversion from a transfer function matrix to a state space form if you have the [slycot]() library installed."
   ]
  },
  {
   "cell_type": "markdown",
   "metadata": {},
   "source": [
    "You can try to install slycot using this command:"
   ]
  },
  {
   "cell_type": "code",
   "execution_count": 15,
   "metadata": {},
   "outputs": [],
   "source": [
    "#!conda install -c conda-forge control slycot"
   ]
  },
  {
   "cell_type": "code",
   "execution_count": 16,
   "metadata": {},
   "outputs": [
    {
     "data": {
      "text/latex": [
       "\\[\n",
       "\\left(\n",
       "\\begin{array}{rllrllrllrll|rllrll}\n",
       "-1.&\\hspace{-1em}33&\\hspace{-1em}\\phantom{\\cdot}&-1.&\\hspace{-1em}11&\\hspace{-1em}\\cdot10^{-16}&-1.&\\hspace{-1em}67&\\hspace{-1em}\\cdot10^{-16}&-0.&\\hspace{-1em}333&\\hspace{-1em}\\phantom{\\cdot}&1\\phantom{.}&\\hspace{-1em}&\\hspace{-1em}\\phantom{\\cdot}&-1.&\\hspace{-1em}11&\\hspace{-1em}\\cdot10^{-16}\\\\\n",
       "-3.&\\hspace{-1em}33&\\hspace{-1em}\\cdot10^{-16}&-0.&\\hspace{-1em}75&\\hspace{-1em}\\phantom{\\cdot}&-0.&\\hspace{-1em}125&\\hspace{-1em}\\phantom{\\cdot}&6.&\\hspace{-1em}94&\\hspace{-1em}\\cdot10^{-17}&0\\phantom{.}&\\hspace{-1em}&\\hspace{-1em}\\phantom{\\cdot}&1\\phantom{.}&\\hspace{-1em}&\\hspace{-1em}\\phantom{\\cdot}\\\\\n",
       "1.&\\hspace{-1em}11&\\hspace{-1em}\\cdot10^{-16}&1\\phantom{.}&\\hspace{-1em}&\\hspace{-1em}\\phantom{\\cdot}&-2.&\\hspace{-1em}1&\\hspace{-1em}\\cdot10^{-16}&-3.&\\hspace{-1em}41&\\hspace{-1em}\\cdot10^{-16}&0\\phantom{.}&\\hspace{-1em}&\\hspace{-1em}\\phantom{\\cdot}&0\\phantom{.}&\\hspace{-1em}&\\hspace{-1em}\\phantom{\\cdot}\\\\\n",
       "1\\phantom{.}&\\hspace{-1em}&\\hspace{-1em}\\phantom{\\cdot}&0\\phantom{.}&\\hspace{-1em}&\\hspace{-1em}\\phantom{\\cdot}&1.&\\hspace{-1em}31&\\hspace{-1em}\\cdot10^{-16}&-9.&\\hspace{-1em}52&\\hspace{-1em}\\cdot10^{-17}&0\\phantom{.}&\\hspace{-1em}&\\hspace{-1em}\\phantom{\\cdot}&0\\phantom{.}&\\hspace{-1em}&\\hspace{-1em}\\phantom{\\cdot}\\\\\n",
       "\\hline\n",
       "1\\phantom{.}&\\hspace{-1em}&\\hspace{-1em}\\phantom{\\cdot}&1\\phantom{.}&\\hspace{-1em}&\\hspace{-1em}\\phantom{\\cdot}&0.&\\hspace{-1em}25&\\hspace{-1em}\\phantom{\\cdot}&0.&\\hspace{-1em}333&\\hspace{-1em}\\phantom{\\cdot}&1\\phantom{.}&\\hspace{-1em}&\\hspace{-1em}\\phantom{\\cdot}&0\\phantom{.}&\\hspace{-1em}&\\hspace{-1em}\\phantom{\\cdot}\\\\\n",
       "1\\phantom{.}&\\hspace{-1em}&\\hspace{-1em}\\phantom{\\cdot}&1\\phantom{.}&\\hspace{-1em}&\\hspace{-1em}\\phantom{\\cdot}&0.&\\hspace{-1em}5&\\hspace{-1em}\\phantom{\\cdot}&1\\phantom{.}&\\hspace{-1em}&\\hspace{-1em}\\phantom{\\cdot}&0\\phantom{.}&\\hspace{-1em}&\\hspace{-1em}\\phantom{\\cdot}&0\\phantom{.}&\\hspace{-1em}&\\hspace{-1em}\\phantom{\\cdot}\\\\\n",
       "\\end{array}\\right)\n",
       "\\]"
      ],
      "text/plain": [
       "StateSpace(array([[-1.33333333e+00, -1.11022302e-16, -1.66533454e-16,\n",
       "        -3.33333333e-01],\n",
       "       [-3.33066907e-16, -7.50000000e-01, -1.25000000e-01,\n",
       "         6.93889390e-17],\n",
       "       [ 1.11022302e-16,  1.00000000e+00, -2.10075805e-16,\n",
       "        -3.40587617e-16],\n",
       "       [ 1.00000000e+00,  0.00000000e+00,  1.31257168e-16,\n",
       "        -9.52355269e-17]]), array([[ 1.00000000e+00, -1.11022302e-16],\n",
       "       [ 0.00000000e+00,  1.00000000e+00],\n",
       "       [ 0.00000000e+00,  0.00000000e+00],\n",
       "       [ 0.00000000e+00,  0.00000000e+00]]), array([[1.        , 1.        , 0.25      , 0.33333333],\n",
       "       [1.        , 1.        , 0.5       , 1.        ]]), array([[1., 0.],\n",
       "       [0., 0.]]))"
      ]
     },
     "execution_count": 16,
     "metadata": {},
     "output_type": "execute_result"
    }
   ],
   "source": [
    "control.ss(Gmatrix)"
   ]
  },
  {
   "cell_type": "markdown",
   "metadata": {},
   "source": [
    "What are the true values of those small (10$^{-16}$) values?"
   ]
  }
 ],
 "metadata": {
  "kernelspec": {
   "display_name": "Python 3 (ipykernel)",
   "language": "python",
   "name": "python3"
  },
  "language_info": {
   "codemirror_mode": {
    "name": "ipython",
    "version": 3
   },
   "file_extension": ".py",
   "mimetype": "text/x-python",
   "name": "python",
   "nbconvert_exporter": "python",
   "pygments_lexer": "ipython3",
   "version": "3.11.6"
  }
 },
 "nbformat": 4,
 "nbformat_minor": 4
}
